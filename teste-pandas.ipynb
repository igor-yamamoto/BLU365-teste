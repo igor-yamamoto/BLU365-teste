{
 "cells": [
  {
   "cell_type": "markdown",
   "metadata": {},
   "source": [
    "# **BLU365 - Teste técnico** ![1](img/índice.png)"
   ]
  },
  {
   "cell_type": "markdown",
   "metadata": {},
   "source": [
    "## **Implementação em Pandas**"
   ]
  },
  {
   "cell_type": "markdown",
   "metadata": {},
   "source": [
    "Este *notebook* é referente à solução do teste proposto pela equipe técnica da BLU365. O teste consiste em analisar uma [base de dados](teste.csv), buscando averiguar quais acordos registrados estão ou não estão válidos. Os critérios básicos para considerar um acordo como válido são:\n",
    "- O valor total do acordo deve ser igual à soma de todas as parcelas\n",
    "- O vencimento da primeira parcela deve cair em um dia útil\n",
    "\n",
    "Este *notebook* possui a versão da análise feita em `pandas`. Além deste pacote, ainda é usado o pacote `wokalendar`, que analisa quais *timestamps* são referentes aos dias de trabalho.\n",
    "\n",
    "Caso deseje saber mais informações, sinta-se livre [para me contatar](https://github.com/igor-yamamoto).\n",
    "\n",
    "\n",
    "🐉 *Code on!* 🐉"
   ]
  },
  {
   "cell_type": "markdown",
   "metadata": {},
   "source": [
    "## Importação de bibliotecas e dos dados"
   ]
  },
  {
   "cell_type": "code",
   "execution_count": 1,
   "metadata": {},
   "outputs": [],
   "source": [
    "import pandas as pd"
   ]
  },
  {
   "cell_type": "code",
   "execution_count": 2,
   "metadata": {},
   "outputs": [
    {
     "data": {
      "text/html": [
       "<div>\n",
       "<style scoped>\n",
       "    .dataframe tbody tr th:only-of-type {\n",
       "        vertical-align: middle;\n",
       "    }\n",
       "\n",
       "    .dataframe tbody tr th {\n",
       "        vertical-align: top;\n",
       "    }\n",
       "\n",
       "    .dataframe thead th {\n",
       "        text-align: right;\n",
       "    }\n",
       "</style>\n",
       "<table border=\"1\" class=\"dataframe\">\n",
       "  <thead>\n",
       "    <tr style=\"text-align: right;\">\n",
       "      <th></th>\n",
       "      <th>documento</th>\n",
       "      <th>nome</th>\n",
       "      <th>contrato</th>\n",
       "      <th>ValorContrato</th>\n",
       "      <th>ContratoPlano</th>\n",
       "      <th>ValorParcela</th>\n",
       "      <th>DataVencimento</th>\n",
       "    </tr>\n",
       "  </thead>\n",
       "  <tbody>\n",
       "    <tr>\n",
       "      <th>0</th>\n",
       "      <td>76748291623</td>\n",
       "      <td>Bryan Barros</td>\n",
       "      <td>CX-287157746696447087647084574665383433006</td>\n",
       "      <td>38610</td>\n",
       "      <td>10</td>\n",
       "      <td>3861</td>\n",
       "      <td>2018-05-21</td>\n",
       "    </tr>\n",
       "    <tr>\n",
       "      <th>1</th>\n",
       "      <td>21056684887</td>\n",
       "      <td>Maria Julia da Rosa</td>\n",
       "      <td>CX-61718558756223880664003750480258706095</td>\n",
       "      <td>9464</td>\n",
       "      <td>4</td>\n",
       "      <td>2366</td>\n",
       "      <td>2018-05-08</td>\n",
       "    </tr>\n",
       "    <tr>\n",
       "      <th>2</th>\n",
       "      <td>31133201431</td>\n",
       "      <td>Anthony Melo</td>\n",
       "      <td>CX-163731311009942175702867182050398914445</td>\n",
       "      <td>14285</td>\n",
       "      <td>5</td>\n",
       "      <td>2857</td>\n",
       "      <td>2018-05-05</td>\n",
       "    </tr>\n",
       "    <tr>\n",
       "      <th>3</th>\n",
       "      <td>94110246446680</td>\n",
       "      <td>Dr. Augusto Silveira</td>\n",
       "      <td>CX-182496437548146647700452378699383440824</td>\n",
       "      <td>37158</td>\n",
       "      <td>22</td>\n",
       "      <td>1689</td>\n",
       "      <td>2018-04-05</td>\n",
       "    </tr>\n",
       "    <tr>\n",
       "      <th>4</th>\n",
       "      <td>64431473462766</td>\n",
       "      <td>Maysa Lopes</td>\n",
       "      <td>CX-81229770554257118009833799243087140596</td>\n",
       "      <td>21284</td>\n",
       "      <td>17</td>\n",
       "      <td>1252</td>\n",
       "      <td>2018-03-06</td>\n",
       "    </tr>\n",
       "  </tbody>\n",
       "</table>\n",
       "</div>"
      ],
      "text/plain": [
       "        documento                  nome  \\\n",
       "0     76748291623          Bryan Barros   \n",
       "1     21056684887   Maria Julia da Rosa   \n",
       "2     31133201431          Anthony Melo   \n",
       "3  94110246446680  Dr. Augusto Silveira   \n",
       "4  64431473462766           Maysa Lopes   \n",
       "\n",
       "                                     contrato  ValorContrato  ContratoPlano  \\\n",
       "0  CX-287157746696447087647084574665383433006          38610             10   \n",
       "1   CX-61718558756223880664003750480258706095           9464              4   \n",
       "2  CX-163731311009942175702867182050398914445          14285              5   \n",
       "3  CX-182496437548146647700452378699383440824          37158             22   \n",
       "4   CX-81229770554257118009833799243087140596          21284             17   \n",
       "\n",
       "   ValorParcela DataVencimento  \n",
       "0          3861     2018-05-21  \n",
       "1          2366     2018-05-08  \n",
       "2          2857     2018-05-05  \n",
       "3          1689     2018-04-05  \n",
       "4          1252     2018-03-06  "
      ]
     },
     "execution_count": 2,
     "metadata": {},
     "output_type": "execute_result"
    }
   ],
   "source": [
    "dados = pd.read_csv(\"teste.csv\", sep='|', dtype={'documento':str})\n",
    "dados.head()"
   ]
  },
  {
   "cell_type": "markdown",
   "metadata": {},
   "source": [
    "Convertendo o campo de data para o tipo datetime:"
   ]
  },
  {
   "cell_type": "code",
   "execution_count": 3,
   "metadata": {},
   "outputs": [],
   "source": [
    "dados['DataVencimento'] = pd.to_datetime(dados['DataVencimento'], format = \"%Y-%m-%d\")"
   ]
  },
  {
   "cell_type": "code",
   "execution_count": 4,
   "metadata": {},
   "outputs": [
    {
     "data": {
      "text/plain": [
       "documento                 object\n",
       "nome                      object\n",
       "contrato                  object\n",
       "ValorContrato              int64\n",
       "ContratoPlano              int64\n",
       "ValorParcela               int64\n",
       "DataVencimento    datetime64[ns]\n",
       "dtype: object"
      ]
     },
     "execution_count": 4,
     "metadata": {},
     "output_type": "execute_result"
    }
   ],
   "source": [
    "dados.dtypes"
   ]
  },
  {
   "cell_type": "markdown",
   "metadata": {},
   "source": [
    "## Verificando os valores dos acordos"
   ]
  },
  {
   "cell_type": "markdown",
   "metadata": {},
   "source": [
    "Os valores dos acordos (valor negociado para quitar as dívidas) devem ser iguais ao valor da soma de todas as parcelas do acordo. Assim, é possível procurar pelos valores de acordo que **não são iguais à quantidade de parcelas vezes o valor de cada parcela**:"
   ]
  },
  {
   "cell_type": "code",
   "execution_count": 5,
   "metadata": {},
   "outputs": [
    {
     "data": {
      "text/plain": [
       "0"
      ]
     },
     "execution_count": 5,
     "metadata": {},
     "output_type": "execute_result"
    }
   ],
   "source": [
    "dados[dados['ValorContrato'] != dados['ValorParcela']*dados['ContratoPlano']].shape[0]"
   ]
  },
  {
   "cell_type": "markdown",
   "metadata": {},
   "source": [
    "Logo, todos os valores dos acordos são iguais ao valor de cada parcela vezes a quantidade de parcelas a serem pagas. Portanto, **nenhum acordo é invalidado** por esta condição."
   ]
  },
  {
   "cell_type": "markdown",
   "metadata": {},
   "source": [
    "## Verificando quais contratos vencem em dias úteis"
   ]
  },
  {
   "cell_type": "markdown",
   "metadata": {},
   "source": [
    "Para verificar quais contratos vencem em dias úteis, será utilizado o pacote `workalendar`. Assim:"
   ]
  },
  {
   "cell_type": "code",
   "execution_count": 6,
   "metadata": {},
   "outputs": [],
   "source": [
    "from workalendar.america import Brazil\n",
    "\n",
    "cal = Brazil()"
   ]
  },
  {
   "cell_type": "markdown",
   "metadata": {},
   "source": [
    "É possível averiguar quais são os feriados registrados no pacote. Para tal, é possível identificar que o intervalo de tempo que diz respeito aos dados no arquivo csv é referente ao ano de $2018$:"
   ]
  },
  {
   "cell_type": "code",
   "execution_count": 7,
   "metadata": {},
   "outputs": [
    {
     "data": {
      "text/plain": [
       "(Timestamp('2018-01-01 00:00:00'), Timestamp('2018-12-25 00:00:00'))"
      ]
     },
     "execution_count": 7,
     "metadata": {},
     "output_type": "execute_result"
    }
   ],
   "source": [
    "(dados['DataVencimento'].min(), dados['DataVencimento'].max())"
   ]
  },
  {
   "cell_type": "code",
   "execution_count": 8,
   "metadata": {},
   "outputs": [
    {
     "data": {
      "text/plain": [
       "[(datetime.date(2018, 1, 1), 'New year'),\n",
       " (datetime.date(2018, 4, 1), 'Easter Sunday'),\n",
       " (datetime.date(2018, 4, 21), \"Tiradentes' Day\"),\n",
       " (datetime.date(2018, 5, 1), 'Labour Day'),\n",
       " (datetime.date(2018, 9, 7), 'Independence Day'),\n",
       " (datetime.date(2018, 10, 12), 'Our Lady of Aparecida'),\n",
       " (datetime.date(2018, 11, 2), \"All Souls' Day\"),\n",
       " (datetime.date(2018, 11, 15), 'Republic Day'),\n",
       " (datetime.date(2018, 12, 25), 'Christmas Day')]"
      ]
     },
     "execution_count": 8,
     "metadata": {},
     "output_type": "execute_result"
    }
   ],
   "source": [
    "cal.holidays(2018)"
   ]
  },
  {
   "cell_type": "markdown",
   "metadata": {},
   "source": [
    "Além dos feriados registrados acima referente ao ano de 2018, ainda se faz necessário considerar [os feriados nacionais registrados no calendário bancário](https://feriadosbancarios.febraban.org.br/feriados.asp?ano=2018). Dentro deles, **Carnaval** (12/02/2018 e 13/02/2018), **Sexta-feira santa** (30/03/2018) e **Corpus Christi** (31/05/2018). \n",
    "\n",
    "Desta forma, é criado um novo campo sobre o *dataframe* original chamado `DiaUtil`, que leva o valor booleano `True` se for dia útil e `False` caso não."
   ]
  },
  {
   "cell_type": "code",
   "execution_count": 9,
   "metadata": {},
   "outputs": [],
   "source": [
    "dados['DiaUtil'] = dados['DataVencimento'].apply(lambda x : cal.is_working_day(x))"
   ]
  },
  {
   "cell_type": "code",
   "execution_count": 10,
   "metadata": {},
   "outputs": [],
   "source": [
    "dados.loc[(dados['DataVencimento'] == '2018-02-12') |\n",
    "          (dados['DataVencimento'] == '2018-02-13') |\n",
    "          (dados['DataVencimento'] == '2018-03-30') |\n",
    "          (dados['DataVencimento'] == '2018-05-31'), 'DiaUtil'] = False"
   ]
  },
  {
   "cell_type": "code",
   "execution_count": 11,
   "metadata": {},
   "outputs": [
    {
     "data": {
      "text/plain": [
       "True     684\n",
       "False    316\n",
       "Name: DiaUtil, dtype: int64"
      ]
     },
     "execution_count": 11,
     "metadata": {},
     "output_type": "execute_result"
    }
   ],
   "source": [
    "dados['DiaUtil'].value_counts()"
   ]
  },
  {
   "cell_type": "markdown",
   "metadata": {},
   "source": [
    "Portanto, dentro de todos os dados, $316$ contratos possuem vencimento em dias não úteis, **tornando-os inválidos**. Assim, é possível passar os valores booleanos do atributo `DiaUtil` para um novo atributo `Valido`, que possue os valores `True` caso o acordo seja válido e `False` quando for inválido."
   ]
  },
  {
   "cell_type": "code",
   "execution_count": 12,
   "metadata": {},
   "outputs": [],
   "source": [
    "dados['Valido'] = dados['DiaUtil']"
   ]
  },
  {
   "cell_type": "markdown",
   "metadata": {},
   "source": [
    "## Verificando os CPFs e CNPJs"
   ]
  },
  {
   "cell_type": "markdown",
   "metadata": {},
   "source": [
    "Os documentos de [CPF possuem 11 dígitos](https://pt.wikipedia.org/wiki/Cadastro_de_pessoas_f%C3%ADsicas#N%C3%BAmero_de_inscri%C3%A7%C3%A3o), ao passo que [o CNPJ possui 14](https://pt.wikipedia.org/wiki/Cadastro_Nacional_da_Pessoa_Jur%C3%ADdica). Assim, é possível averiguar o comprimento dos dados fornecidos no campo `documento` quando em formato de *string*."
   ]
  },
  {
   "cell_type": "code",
   "execution_count": 13,
   "metadata": {},
   "outputs": [
    {
     "data": {
      "text/plain": [
       "14    512\n",
       "11    488\n",
       "Name: documento, dtype: int64"
      ]
     },
     "execution_count": 13,
     "metadata": {},
     "output_type": "execute_result"
    }
   ],
   "source": [
    "dados['documento'].str.len().value_counts()"
   ]
  },
  {
   "cell_type": "markdown",
   "metadata": {},
   "source": [
    "De acordo com o resultado acima, existem $512$ instâncias referentes ao registros de CNPJ e $488$ à CPFs, totalizando $1000$ entradas no total. Para manter registro de qual tipo é cada documento, é criado o atributo `doc tipo`."
   ]
  },
  {
   "cell_type": "code",
   "execution_count": 14,
   "metadata": {},
   "outputs": [
    {
     "data": {
      "text/html": [
       "<div>\n",
       "<style scoped>\n",
       "    .dataframe tbody tr th:only-of-type {\n",
       "        vertical-align: middle;\n",
       "    }\n",
       "\n",
       "    .dataframe tbody tr th {\n",
       "        vertical-align: top;\n",
       "    }\n",
       "\n",
       "    .dataframe thead th {\n",
       "        text-align: right;\n",
       "    }\n",
       "</style>\n",
       "<table border=\"1\" class=\"dataframe\">\n",
       "  <thead>\n",
       "    <tr style=\"text-align: right;\">\n",
       "      <th></th>\n",
       "      <th>documento</th>\n",
       "      <th>nome</th>\n",
       "      <th>contrato</th>\n",
       "      <th>ValorContrato</th>\n",
       "      <th>ContratoPlano</th>\n",
       "      <th>ValorParcela</th>\n",
       "      <th>DataVencimento</th>\n",
       "      <th>DiaUtil</th>\n",
       "      <th>Valido</th>\n",
       "      <th>doc tipo</th>\n",
       "    </tr>\n",
       "  </thead>\n",
       "  <tbody>\n",
       "    <tr>\n",
       "      <th>0</th>\n",
       "      <td>76748291623</td>\n",
       "      <td>Bryan Barros</td>\n",
       "      <td>CX-287157746696447087647084574665383433006</td>\n",
       "      <td>38610</td>\n",
       "      <td>10</td>\n",
       "      <td>3861</td>\n",
       "      <td>2018-05-21</td>\n",
       "      <td>True</td>\n",
       "      <td>True</td>\n",
       "      <td>CPF</td>\n",
       "    </tr>\n",
       "    <tr>\n",
       "      <th>1</th>\n",
       "      <td>21056684887</td>\n",
       "      <td>Maria Julia da Rosa</td>\n",
       "      <td>CX-61718558756223880664003750480258706095</td>\n",
       "      <td>9464</td>\n",
       "      <td>4</td>\n",
       "      <td>2366</td>\n",
       "      <td>2018-05-08</td>\n",
       "      <td>True</td>\n",
       "      <td>True</td>\n",
       "      <td>CPF</td>\n",
       "    </tr>\n",
       "    <tr>\n",
       "      <th>2</th>\n",
       "      <td>31133201431</td>\n",
       "      <td>Anthony Melo</td>\n",
       "      <td>CX-163731311009942175702867182050398914445</td>\n",
       "      <td>14285</td>\n",
       "      <td>5</td>\n",
       "      <td>2857</td>\n",
       "      <td>2018-05-05</td>\n",
       "      <td>False</td>\n",
       "      <td>False</td>\n",
       "      <td>CPF</td>\n",
       "    </tr>\n",
       "    <tr>\n",
       "      <th>3</th>\n",
       "      <td>94110246446680</td>\n",
       "      <td>Dr. Augusto Silveira</td>\n",
       "      <td>CX-182496437548146647700452378699383440824</td>\n",
       "      <td>37158</td>\n",
       "      <td>22</td>\n",
       "      <td>1689</td>\n",
       "      <td>2018-04-05</td>\n",
       "      <td>True</td>\n",
       "      <td>True</td>\n",
       "      <td>CNPJ</td>\n",
       "    </tr>\n",
       "    <tr>\n",
       "      <th>4</th>\n",
       "      <td>64431473462766</td>\n",
       "      <td>Maysa Lopes</td>\n",
       "      <td>CX-81229770554257118009833799243087140596</td>\n",
       "      <td>21284</td>\n",
       "      <td>17</td>\n",
       "      <td>1252</td>\n",
       "      <td>2018-03-06</td>\n",
       "      <td>True</td>\n",
       "      <td>True</td>\n",
       "      <td>CNPJ</td>\n",
       "    </tr>\n",
       "  </tbody>\n",
       "</table>\n",
       "</div>"
      ],
      "text/plain": [
       "        documento                  nome  \\\n",
       "0     76748291623          Bryan Barros   \n",
       "1     21056684887   Maria Julia da Rosa   \n",
       "2     31133201431          Anthony Melo   \n",
       "3  94110246446680  Dr. Augusto Silveira   \n",
       "4  64431473462766           Maysa Lopes   \n",
       "\n",
       "                                     contrato  ValorContrato  ContratoPlano  \\\n",
       "0  CX-287157746696447087647084574665383433006          38610             10   \n",
       "1   CX-61718558756223880664003750480258706095           9464              4   \n",
       "2  CX-163731311009942175702867182050398914445          14285              5   \n",
       "3  CX-182496437548146647700452378699383440824          37158             22   \n",
       "4   CX-81229770554257118009833799243087140596          21284             17   \n",
       "\n",
       "   ValorParcela DataVencimento  DiaUtil  Valido doc tipo  \n",
       "0          3861     2018-05-21     True    True      CPF  \n",
       "1          2366     2018-05-08     True    True      CPF  \n",
       "2          2857     2018-05-05    False   False      CPF  \n",
       "3          1689     2018-04-05     True    True     CNPJ  \n",
       "4          1252     2018-03-06     True    True     CNPJ  "
      ]
     },
     "execution_count": 14,
     "metadata": {},
     "output_type": "execute_result"
    }
   ],
   "source": [
    "dados['doc tipo'] = 'CPF'\n",
    "dados.loc[dados['documento'].str.len() == 14, 'doc tipo'] = 'CNPJ'\n",
    "dados.head()"
   ]
  },
  {
   "cell_type": "markdown",
   "metadata": {},
   "source": [
    "## Resumo dos dados"
   ]
  },
  {
   "cell_type": "markdown",
   "metadata": {},
   "source": [
    "Do total de **$1000$ acordos** previamente registrados na base, **$316$ são inválidos**. Assim, a quantidade de **acordos válidos gerados é de $684$**.\n",
    "A invalidez dos acordos gerados se deve ao vencimento em dias não úteis. Ainda, é possível avaliar a distribuição dos acordos em relação aos tipos de documentos associados."
   ]
  },
  {
   "cell_type": "code",
   "execution_count": 15,
   "metadata": {},
   "outputs": [
    {
     "data": {
      "text/plain": [
       "<matplotlib.axes._subplots.AxesSubplot at 0x7f3755a6feb8>"
      ]
     },
     "execution_count": 15,
     "metadata": {},
     "output_type": "execute_result"
    },
    {
     "data": {
      "image/png": "[encoded data removed]",
      "text/plain": [
       "<Figure size 432x288 with 1 Axes>"
      ]
     },
     "metadata": {},
     "output_type": "display_data"
    }
   ],
   "source": [
    "dados['Valido'].value_counts().plot.pie(title='Acordos válidos', autopct='%1.1f%%')"
   ]
  },
  {
   "cell_type": "code",
   "execution_count": 16,
   "metadata": {},
   "outputs": [],
   "source": [
    "acordos_validos = dados[dados['Valido'] == True]\n",
    "acordos_invalidos = dados[dados['Valido'] == False]"
   ]
  },
  {
   "cell_type": "code",
   "execution_count": 17,
   "metadata": {},
   "outputs": [
    {
     "data": {
      "text/plain": [
       "CNPJ    347\n",
       "CPF     337\n",
       "Name: doc tipo, dtype: int64"
      ]
     },
     "execution_count": 17,
     "metadata": {},
     "output_type": "execute_result"
    }
   ],
   "source": [
    "acordos_validos['doc tipo'].value_counts()"
   ]
  },
  {
   "cell_type": "code",
   "execution_count": 18,
   "metadata": {},
   "outputs": [
    {
     "data": {
      "text/plain": [
       "<matplotlib.axes._subplots.AxesSubplot at 0x7f37550786a0>"
      ]
     },
     "execution_count": 18,
     "metadata": {},
     "output_type": "execute_result"
    },
    {
     "data": {
      "image/png": "[encoded data removed]",
      "text/plain": [
       "<Figure size 432x288 with 1 Axes>"
      ]
     },
     "metadata": {},
     "output_type": "display_data"
    }
   ],
   "source": [
    "acordos_validos['doc tipo'].value_counts().plot.pie(title='Acordos validados', autopct='%1.1f%%')"
   ]
  },
  {
   "cell_type": "markdown",
   "metadata": {},
   "source": [
    "Assim, dos acordos validados, **$337$ deles são referentes a pessoas físicas** (CPF, com comprimento de 11) e **$347$ são sobre pessoas jurídicas** (CNPJ, com comprimento de 14)."
   ]
  },
  {
   "cell_type": "code",
   "execution_count": 19,
   "metadata": {},
   "outputs": [
    {
     "data": {
      "text/plain": [
       "CNPJ    165\n",
       "CPF     151\n",
       "Name: doc tipo, dtype: int64"
      ]
     },
     "execution_count": 19,
     "metadata": {},
     "output_type": "execute_result"
    }
   ],
   "source": [
    "acordos_invalidos['doc tipo'].value_counts()"
   ]
  },
  {
   "cell_type": "code",
   "execution_count": 20,
   "metadata": {},
   "outputs": [
    {
     "data": {
      "text/plain": [
       "<matplotlib.axes._subplots.AxesSubplot at 0x7f37549e5a58>"
      ]
     },
     "execution_count": 20,
     "metadata": {},
     "output_type": "execute_result"
    },
    {
     "data": {
      "image/png": "[encoded data removed]",
      "text/plain": [
       "<Figure size 432x288 with 1 Axes>"
      ]
     },
     "metadata": {},
     "output_type": "display_data"
    }
   ],
   "source": [
    "acordos_invalidos['doc tipo'].value_counts().plot.pie(title='Acordos invalidados', autopct='%1.1f%%')"
   ]
  },
  {
   "cell_type": "markdown",
   "metadata": {},
   "source": [
    "Dos acordos invalidos, **$151$ são referentes a CPF** e **$165$ são de CNPJ**."
   ]
  },
  {
   "cell_type": "markdown",
   "metadata": {},
   "source": [
    "## Valor total em reais"
   ]
  },
  {
   "cell_type": "markdown",
   "metadata": {},
   "source": [
    "Para os acordos validados, **o montante total gerado é de R$\\$41.7$ milhões**, enquanto os **acordos invalidados geram um total de R$\\$19.1$ milhões** (**total: R$\\$60.8$ milhões**). Assim, os acordos invalidados representam uma receita de um total de $31.54\\%$, ao passo que para os acordos validados este valor é de $68.54\\%$."
   ]
  },
  {
   "cell_type": "code",
   "execution_count": 21,
   "metadata": {},
   "outputs": [
    {
     "name": "stdout",
     "output_type": "stream",
     "text": [
      "Valor total gerado pelos acordos válidos: R$41.7 mi\n",
      "Porcentagem em relação à todos os acordos (válidos e inválidos): 68.54%\n"
     ]
    }
   ],
   "source": [
    "print('Valor total gerado pelos acordos válidos: R$' + str(round(acordos_validos['ValorContrato'].sum()/1e6, 1)) + ' mi')\n",
    "print('Porcentagem em relação à todos os acordos (válidos e inválidos): ' +\n",
    "      str(round(100*acordos_validos['ValorContrato'].sum()/dados['ValorContrato'].sum(), 2)) +\n",
    "      '%'\n",
    "     )"
   ]
  },
  {
   "cell_type": "code",
   "execution_count": 22,
   "metadata": {},
   "outputs": [
    {
     "name": "stdout",
     "output_type": "stream",
     "text": [
      "Valor total gerado pelos acordos inválidos: R$19.1 mi\n",
      "Porcentagem em relação à todos os acordos (válidos e inválidos): 31.46%\n"
     ]
    }
   ],
   "source": [
    "print('Valor total gerado pelos acordos inválidos: R$' + str(round(acordos_invalidos['ValorContrato'].sum()/1e6, 1)) + ' mi')\n",
    "print('Porcentagem em relação à todos os acordos (válidos e inválidos): ' +\n",
    "      str(round(100*acordos_invalidos['ValorContrato'].sum()/dados['ValorContrato'].sum(), 2)) + \n",
    "      '%'\n",
    "     )"
   ]
  },
  {
   "cell_type": "markdown",
   "metadata": {},
   "source": [
    "Dos cálculos apresentados abaixo, é possível concluir que,\n",
    "- Para os acordos válidos, **R$\\$19.8$ milhões derivam de contratos com pessoas físicas**, enquanto **R$\\$21.9$ milhões são relacionados a pessoas jurídicas**\n",
    "- Já para os acordos inválidos, os contratos com **CPF representam um montante de R$\\$9.1$ milhões**, ao passo que, para o caso de **CNPJ, este valor é de R$\\$10.0$**\n",
    "- Tanto para os acordos válidos quanto para os inválidos, a porcentagem de receita gerado por CPF equivale à aproximadamente $48.0\\%$. Para CNPJ, este valor é de $52.0\\%$"
   ]
  },
  {
   "cell_type": "code",
   "execution_count": 23,
   "metadata": {},
   "outputs": [
    {
     "name": "stdout",
     "output_type": "stream",
     "text": [
      "Acordos válidos:\n",
      "Valor total gerado por CPF: R$19.8 mi (47.57%)\n",
      "Valor total gerado por CNPJ: R$21.9 mi (52.43%)\n"
     ]
    }
   ],
   "source": [
    "print('Acordos válidos:')\n",
    "print('Valor total gerado por CPF: R$' +\n",
    "      str(round(acordos_validos[acordos_validos['doc tipo'] == 'CPF']['ValorContrato'].sum()/1e6,1)) + \n",
    "      ' mi (' +\n",
    "      str(round(100*(acordos_validos[acordos_validos['doc tipo'] == 'CPF']['ValorContrato'].sum()/acordos_validos['ValorContrato'].sum()), 2)) +\n",
    "      '%)'\n",
    "     )\n",
    "print('Valor total gerado por CNPJ: R$' +\n",
    "      str(round(acordos_validos[acordos_validos['doc tipo'] == 'CNPJ']['ValorContrato'].sum()/1e6,1)) + \n",
    "      ' mi (' +\n",
    "      str(round(100*(acordos_validos[acordos_validos['doc tipo'] == 'CNPJ']['ValorContrato'].sum()/acordos_validos['ValorContrato'].sum()), 2)) +\n",
    "      '%)'\n",
    "     )"
   ]
  },
  {
   "cell_type": "code",
   "execution_count": 24,
   "metadata": {},
   "outputs": [
    {
     "name": "stdout",
     "output_type": "stream",
     "text": [
      "Acordos inválidos:\n",
      "Valor total gerado por CPF: R$9.1 mi (47.65%)\n",
      "Valor total gerado por CNPJ: R$10.0 mi (52.35%)\n"
     ]
    }
   ],
   "source": [
    "print('Acordos inválidos:')\n",
    "print('Valor total gerado por CPF: R$' +\n",
    "      str(round(acordos_invalidos[acordos_invalidos['doc tipo'] == 'CPF']['ValorContrato'].sum()/1e6,1)) + \n",
    "      ' mi (' +\n",
    "      str(round(100*(acordos_invalidos[acordos_invalidos['doc tipo'] == 'CPF']['ValorContrato'].sum()/acordos_invalidos['ValorContrato'].sum()), 2)) +\n",
    "      '%)'\n",
    "     )\n",
    "print('Valor total gerado por CNPJ: R$' +\n",
    "      str(round(acordos_invalidos[acordos_invalidos['doc tipo'] == 'CNPJ']['ValorContrato'].sum()/1e6,1)) + \n",
    "      ' mi (' +\n",
    "      str(round(100*(acordos_invalidos[acordos_invalidos['doc tipo'] == 'CNPJ']['ValorContrato'].sum()/acordos_invalidos['ValorContrato'].sum()), 2)) +\n",
    "      '%)'\n",
    "     )"
   ]
  },
  {
   "cell_type": "markdown",
   "metadata": {},
   "source": [
    "Por fim, um resumo de toda a receita presente no arquivo csv, bem como as projeções desta receita sobre o tipo de documento e a validade do contrato são apresentadas na tabela abaixo. Cada valor na tabela representa milhões de reais."
   ]
  },
  {
   "cell_type": "markdown",
   "metadata": {},
   "source": [
    "|  | Total | CPF | CNPJ |\n",
    "| - | - | - | - |\n",
    "| **Total** | $60.8$ | $28.9$ | $31.9$ |\n",
    "| **Válido** | $41.7$ | $19.8$ | $21.9$ |\n",
    "| **Inválido** | $19.1$ | $9.1$ | $10.0$ |"
   ]
  }
 ],
 "metadata": {
  "kernelspec": {
   "display_name": "Python 3",
   "language": "python",
   "name": "python3"
  },
  "language_info": {
   "codemirror_mode": {
    "name": "ipython",
    "version": 3
   },
   "file_extension": ".py",
   "mimetype": "text/x-python",
   "name": "python",
   "nbconvert_exporter": "python",
   "pygments_lexer": "ipython3",
   "version": "3.6.9"
  }
 },
 "nbformat": 4,
 "nbformat_minor": 4
}
